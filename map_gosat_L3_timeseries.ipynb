{
 "cells": [
  {
   "cell_type": "code",
   "execution_count": 654,
   "metadata": {
    "collapsed": true
   },
   "outputs": [],
   "source": [
    "# Python built-in library imports\n",
    "import os\n",
    "from collections import OrderedDict\n",
    "\n",
    "# pip installed library imports\n",
    "import h5py\n",
    "import matplotlib.cm as cm\n",
    "import matplotlib.colors\n",
    "import matplotlib.patches as mpatches\n",
    "\n",
    "import matplotlib.pyplot as plt\n",
    "import netCDF4\n",
    "import numpy as np\n",
    "import pandas as pd\n",
    "import scipy as sci\n",
    "\n",
    "import mpl_toolkits\n",
    "from mpl_toolkits.basemap import Basemap"
   ]
  },
  {
   "cell_type": "markdown",
   "metadata": {},
   "source": [
    "# Objective:\n",
    "\n",
    "1. To calculate global average per year"
   ]
  },
  {
   "cell_type": "markdown",
   "metadata": {},
   "source": [
    "### Utility tools"
   ]
  },
  {
   "cell_type": "code",
   "execution_count": 584,
   "metadata": {},
   "outputs": [],
   "source": [
    "utils = {\n",
    "    'map_title': 'Monthly Averaged Methane Column Mixing Ratio (20{})',\n",
    "    'data_dir': './data/SWIRL3CH4/all_data/SWIRL3CH4/',  \n",
    "    'data_loc': '/Users/mlimb/sio/methane/gosat/data/SWIRL3CH4/all_data/SWIRL3CH4/{}',\n",
    "}\n"
   ]
  },
  {
   "cell_type": "markdown",
   "metadata": {},
   "source": [
    "### Intialize `aliso_trend` dictionary\n",
    "\n",
    "Notes\n",
    "\n",
    "- OrderedDict has year [int] as keys from 2009 to 2017\n",
    "- aliso_trend[year] has an list of 12 elements\n",
    "- each element is initialized to null value of **-1** \n",
    "\n",
    "#### **<span style=\"color:orange; background-color: navy\">Question</span>**\n",
    "\n",
    "- Is **-1** a good choice of null value?"
   ]
  },
  {
   "cell_type": "code",
   "execution_count": 585,
   "metadata": {},
   "outputs": [],
   "source": [
    "all_years = range(2009, 2017+1)\n",
    "\n",
    "# initialize OrderedDict with year [int] mapping to empty list []\n",
    "# using -1 as init\n",
    "aliso_trend = OrderedDict((year,[-1]*12) for year in all_years)\n",
    "\n",
    "# manual chek\n",
    "# for k,v in aliso_trend.items():\n",
    "#     print k # should year year [int] 2009 to 2017\n",
    "#     print v # should be []"
   ]
  },
  {
   "cell_type": "code",
   "execution_count": 586,
   "metadata": {},
   "outputs": [
    {
     "data": {
      "text/plain": [
       "89"
      ]
     },
     "execution_count": 586,
     "metadata": {},
     "output_type": "execute_result"
    }
   ],
   "source": [
    "data_dir = utils['data_dir']\n",
    "data_loc = utils['data_loc']\n",
    "len(os.listdir(data_dir))"
   ]
  },
  {
   "cell_type": "code",
   "execution_count": 587,
   "metadata": {},
   "outputs": [
    {
     "data": {
      "text/plain": [
       "89"
      ]
     },
     "execution_count": 587,
     "metadata": {},
     "output_type": "execute_result"
    }
   ],
   "source": [
    "files = [f for f in os.listdir(data_dir) if f.endswith('.h5')]\n",
    "len(files)"
   ]
  },
  {
   "cell_type": "code",
   "execution_count": 588,
   "metadata": {},
   "outputs": [],
   "source": [
    "# dictionary that maps month number to names (Long version, 3-letter abbreviated version,\n",
    "# month number as int).\n",
    "# all in Strings\n",
    "month_names = {\n",
    "    '01': ('January', 'JAN', 1),\n",
    "    '02': ('February', 'FEB', 2),\n",
    "    '03': ('March', 'MAR', 3),\n",
    "    '04': ('April', 'APR', 4),\n",
    "    '05': ('May', 'MAY', 5),\n",
    "    '06': ('June', 'JUN', 6),\n",
    "    '07': ('July', 'JUL', 7),\n",
    "    '08': ('August', 'AUG', 8),\n",
    "    '09': ('September', 'SEP', 9),\n",
    "    '10': ('October', 'OCT', 10),\n",
    "    '11': ('November', 'NOV', 11),\n",
    "    '12': ('December', 'DEC', 12)\n",
    "}\n",
    "\n"
   ]
  },
  {
   "cell_type": "markdown",
   "metadata": {},
   "source": [
    "I manually confirmed all filenames.\n",
    "\n",
    "**All available data**<br />\n",
    "2009 June to 2017 February EXCEPT:\n",
    "\n",
    "Known missing data<br />\n",
    "- 2014 June and December \n",
    "- 2015 January and September \n",
    "\n",
    "Q. Why is there no data after 2017 FEB?"
   ]
  },
  {
   "cell_type": "markdown",
   "metadata": {},
   "source": [
    "## Write out what to do\n",
    "\n",
    "I have a list of files that have global coverage, \n",
    "one monthly average per file\n",
    "\n",
    "From each of the 89 matrix, I only need a single value,\n",
    "the one nearest to the Aliso Canyon Oil Field\n",
    "\n",
    "    this is at: \n",
    "        [lon, lat] = -118.75, 33.75\n",
    "\n",
    "    which is same as location as:\n",
    "        ???\n",
    "    \n",
    "Given:\n",
    "- 2.5 degrees lat/lon spatial resolution\n",
    "- starting values hidden in the h5 file\n",
    "\n",
    "`get_aliso_value` (function): given the point, get value at that exact point for all years\n",
    "\n",
    "<hr >\n",
    "**Tasks:**\n",
    "\n",
    "1) Open files **<span style=\"color:black; background-color: yellow\">DONE</span>**\n",
    "\n",
    "- Loop through all files, open all, save netcdf of all **<span style=\"color:black; background-color: yellow\">DONE</span>**\n",
    "- Mask the files **<span style=\"color:black; background-color: yellow\">DONE</span>**\n",
    "\n",
    "2) Determine the location for the Aliso lon/lat combo **<span style=\"color:red; background-color: black\">Don't Panic</span>**\n",
    "\n",
    "- What is the lon/lat value nearest to the Aliso Canyon Oil Field? **<span style=\"color:black; background-color: yellow\">DONE</span>**\n",
    "\n",
    "        34.3122, -118.5645 (from USGS data)\n",
    "\n",
    "- What is the matrix [x,y] of the [lon, lat]? **<span style=\"color:black; background-color: yellow\">DONE</span>**\n",
    "\n",
    "        Latitude: lats[22][0] (33.75)\n",
    "        Longitude: lons[0][24] (-118.75)\n",
    "\n",
    "\n",
    "- Write a function that retrieves the value at [x,y] for each matrix **<span style=\"color:black; background-color: yellow\">DONE</span>**\n",
    "\n",
    "\n",
    "3) Write `get_aliso_value` function: **<span style=\"color:black; background-color: yellow\">DONE</span>**\n",
    "\n",
    "- Add 1 value to aliso_trend as looping over** \n",
    "\n",
    "Either \n",
    "- given the point, get value at that exact point for all years\n",
    "- OR given the global monthly data and one point, return the methane value at that point\n",
    "\n",
    "4) Create an OrderedDictionary of years to store all data per month by year **<span style=\"color:black; background-color: yellow\">DONE</span>**\n",
    "\n",
    "5) Manual confirmation that point is accurate** **<span style=\"color:black; background-color: lightgreen\">In Progress</span>**\n",
    "\n",
    "\n",
    "missing value (invalid) is `-9999.99`\n",
    "```\n",
    "aliso_trend = \n",
    "{\n",
    "    2009: [] # 12 values per yer\n",
    "    2010: [] \n",
    "    2011: []\n",
    "    2012\n",
    "    2013\n",
    "    2014\n",
    "    2015\n",
    "    2016\n",
    "    2017: []\n",
    "}\n",
    "```\n",
    "\n",
    "Need to be 100% correct:\n",
    "- correct matrix location for lon/lat pair\n",
    "\n",
    "Status Indicators:\n",
    "**<span style=\"color:black; background-color: yellow\">DONE</span>**\n",
    "**<span style=\"color:black; background-color: lightgreen\">In Progress</span>**\n",
    "**<span style=\"color:red; background-color: black\">Don't Panic</span>**"
   ]
  },
  {
   "cell_type": "markdown",
   "metadata": {},
   "source": [
    "### Function to retrieve month-year from file name"
   ]
  },
  {
   "cell_type": "code",
   "execution_count": 589,
   "metadata": {},
   "outputs": [
    {
     "name": "stdout",
     "output_type": "stream",
     "text": [
      "06 2009\n"
     ]
    },
    {
     "data": {
      "text/plain": [
       "200906"
      ]
     },
     "execution_count": 589,
     "metadata": {},
     "output_type": "execute_result"
    }
   ],
   "source": [
    "test = files[0]\n",
    "year_month = test[9:15]\n",
    "\n",
    "month = test[13:15]\n",
    "year = test[9:13]\n",
    "print month, year\n",
    "\n",
    "get_year_month = lambda fname: fname[9:15]\n",
    "get_year_month_tup = lambda year_month_str: (int(year_month_str[0:  4]), month_names.get(year_month_str[4:]))\n",
    "\n",
    "int(get_year_month(test))"
   ]
  },
  {
   "cell_type": "code",
   "execution_count": 590,
   "metadata": {},
   "outputs": [
    {
     "data": {
      "text/plain": [
       "['GOSATTFTS2009070120090731_03C02SV0221.h5',\n",
       " 'GOSATTFTS2009080120090831_03C02SV0221.h5']"
      ]
     },
     "execution_count": 590,
     "metadata": {},
     "output_type": "execute_result"
    }
   ],
   "source": [
    "# check file string names\n",
    "files[1:3]"
   ]
  },
  {
   "cell_type": "markdown",
   "metadata": {},
   "source": [
    "### Store h5 data as netCDF in `ncs` OrderedDict\n",
    "\n",
    "string year-month (ex. `200906`) is used a key\n",
    "\n",
    "### **<span style=\"color:yellow; background-color: darkblue\">Added empty string for 4 missing months here</span>**\n",
    "\n",
    "Having added empty list for invalid data is causing trouble for masked np array calculations\n",
    "\n",
    "TODO:\n",
    "**update [] to np.empty([72, 144], dtype=int) then mask it**"
   ]
  },
  {
   "cell_type": "code",
   "execution_count": 591,
   "metadata": {},
   "outputs": [],
   "source": [
    "# initialize empty OrderedDict\n",
    "ncs = OrderedDict()\n",
    "\n",
    "for fname in files:\n",
    "    year_month = get_year_month(fname)\n",
    "    ncs[year_month] = netCDF4.Dataset(data_loc.format(fname))\n",
    "    # manual insertion of missing data as empty arrays (Better here than later due to use\n",
    "    # or OrderedDicts that doesn't allow inserting element at specified locations)\n",
    "    if year_month == '201405':\n",
    "        ncs['201406'] = []\n",
    "    if year_month == '201411': #consecutive\n",
    "        ncs['201412'] = []\n",
    "        ncs['201501'] = []\n",
    "    if year_month == '201508':\n",
    "        ncs['201509'] = []"
   ]
  },
  {
   "cell_type": "markdown",
   "metadata": {},
   "source": [
    "## Essentiall create 72 by 144 completely masked array"
   ]
  },
  {
   "cell_type": "code",
   "execution_count": 717,
   "metadata": {
    "scrolled": true
   },
   "outputs": [
    {
     "data": {
      "text/plain": [
       "masked_array(data = [-- -- --],\n",
       "             mask = [ True  True  True],\n",
       "       fill_value = 999999)"
      ]
     },
     "execution_count": 717,
     "metadata": {},
     "output_type": "execute_result"
    }
   ],
   "source": [
    "# np.ma.array([1, 2, 3], mask = [1]*3)"
   ]
  },
  {
   "cell_type": "code",
   "execution_count": 727,
   "metadata": {
    "collapsed": true
   },
   "outputs": [],
   "source": [
    "# initialize empty OrderedDict\n",
    "ncs2 = OrderedDict()\n",
    "for fname in files:\n",
    "    year_month = get_year_month(fname)\n",
    "    ncs2[year_month] = netCDF4.Dataset(data_loc.format(fname))\n",
    "    # manual insertion of missing data as empty arrays (Better here than later due to use\n",
    "    # or OrderedDicts that doesn't allow inserting element at specified locations)\n",
    "#     if year_month == '201405':\n",
    "#         ncs2['201406'] = nnp.empty([72, 144], dtype=float)\n",
    "#     if year_month == '201411': #consecutive\n",
    "#         ncs2['201412'] = np.empty([72, 144], dtype=float)\n",
    "#         ncs2['201501'] = np.empty([72, 144], dtype=float)\n",
    "#     if year_month == '201508':\n",
    "#         ncs2['201509'] = np.empty([72, 144], dtype=float)"
   ]
  },
  {
   "cell_type": "code",
   "execution_count": 855,
   "metadata": {},
   "outputs": [],
   "source": [
    "# ncs2.keys()"
   ]
  },
  {
   "cell_type": "markdown",
   "metadata": {},
   "source": [
    "### Check that 4 missing date-month pairs were corrected"
   ]
  },
  {
   "cell_type": "code",
   "execution_count": 592,
   "metadata": {},
   "outputs": [
    {
     "name": "stdout",
     "output_type": "stream",
     "text": [
      "True\n"
     ]
    }
   ],
   "source": [
    "print (len(ncs.keys()) - len(files)) is 4"
   ]
  },
  {
   "cell_type": "code",
   "execution_count": 593,
   "metadata": {},
   "outputs": [],
   "source": [
    "# ncs.keys() # manual check"
   ]
  },
  {
   "cell_type": "code",
   "execution_count": 594,
   "metadata": {},
   "outputs": [],
   "source": [
    "# check keys output\n",
    "# ncs.keys()"
   ]
  },
  {
   "cell_type": "code",
   "execution_count": 595,
   "metadata": {},
   "outputs": [
    {
     "data": {
      "text/plain": [
       "<type 'netCDF4._netCDF4.Dataset'>\n",
       "root group (NETCDF4 data model, file format HDF5):\n",
       "    dimensions(sizes): \n",
       "    variables(dimensions): \n",
       "    groups: Attribute, Data, Global"
      ]
     },
     "execution_count": 595,
     "metadata": {},
     "output_type": "execute_result"
    }
   ],
   "source": [
    "ncs['200910']"
   ]
  },
  {
   "cell_type": "code",
   "execution_count": 596,
   "metadata": {
    "collapsed": true
   },
   "outputs": [],
   "source": [
    "def get_ch4_masked_data(nc):\n",
    "    \"\"\"Return the *masked* monthly methane average column mixing ratio values\n",
    "    \n",
    "    *This is what should be used to generate figures as invalid values will be masked\n",
    "    and automatically NOT Plotted\n",
    "    \"\"\"\n",
    "    if nc == []:\n",
    "        return []\n",
    "    ch4 = nc.groups['Data']['mixingRatio']['XCH4']\n",
    "    masked_data = np.ma.masked_equal(ch4, value=ch4.invalidValue)\n",
    "#   print masked_data\n",
    "    return masked_data"
   ]
  },
  {
   "cell_type": "code",
   "execution_count": 597,
   "metadata": {},
   "outputs": [],
   "source": [
    "# ncs"
   ]
  },
  {
   "cell_type": "code",
   "execution_count": 598,
   "metadata": {
    "collapsed": true
   },
   "outputs": [],
   "source": [
    "# init emtpy ordered dicts\n",
    "data = OrderedDict()\n",
    "\n",
    "def make_data_dict(_ncs, _data=OrderedDict()):  \n",
    "    \"\"\"Populate the given OrderedDict with given hdf5 data\n",
    "    Note: If no OrderedDict is given, create an empty one\n",
    "    \n",
    "    Result:\n",
    "        OrderedDict will have these keys: `masked_data` and `flat_data`\n",
    "        \n",
    "    * Currently, *masked_data* is used to generate all the maps\n",
    "    * flat_data is 1D version of 2D arrays and is used to generate histograms\n",
    "    \"\"\"\n",
    "    for key, _nc in _ncs.items():\n",
    "        _data[key] = {}\n",
    "        _data[key]['masked_data'] = get_ch4_masked_data(_nc) # used to make maps\n",
    "#         _data[key]['flat_data'] = _data[key]['data'].flatten() # used to make histograms\n",
    "    #return _data # commenting this line prevents output"
   ]
  },
  {
   "cell_type": "code",
   "execution_count": 599,
   "metadata": {},
   "outputs": [],
   "source": [
    "make_data_dict(ncs, data)"
   ]
  },
  {
   "cell_type": "code",
   "execution_count": 728,
   "metadata": {
    "collapsed": true
   },
   "outputs": [],
   "source": [
    "data2 = OrderedDict()"
   ]
  },
  {
   "cell_type": "code",
   "execution_count": 734,
   "metadata": {},
   "outputs": [],
   "source": [
    "make_data_dict(ncs2, data2)\n",
    "# data2.keys() # missing four values but doesn't matter anyways for masked array op"
   ]
  },
  {
   "cell_type": "code",
   "execution_count": 726,
   "metadata": {},
   "outputs": [
    {
     "data": {
      "text/plain": [
       "0.24529727888695985"
      ]
     },
     "execution_count": 726,
     "metadata": {},
     "output_type": "execute_result"
    }
   ],
   "source": [
    "# a = data['200906']['masked_data']\n"
   ]
  },
  {
   "cell_type": "markdown",
   "metadata": {},
   "source": [
    "## don't forget!\n",
    "\n",
    "data is at `data['200906']['masked_data']`\n",
    "\n",
    "or more generally `data['yyyymm']['masked_data']"
   ]
  },
  {
   "cell_type": "code",
   "execution_count": 601,
   "metadata": {},
   "outputs": [
    {
     "data": {
      "text/plain": [
       "93"
      ]
     },
     "execution_count": 601,
     "metadata": {},
     "output_type": "execute_result"
    }
   ],
   "source": [
    "len(data)"
   ]
  },
  {
   "cell_type": "markdown",
   "metadata": {},
   "source": [
    "### GET lat and lon matrices (in 'geolocation') "
   ]
  },
  {
   "cell_type": "code",
   "execution_count": 602,
   "metadata": {},
   "outputs": [
    {
     "data": {
      "text/plain": [
       "(72, 144)"
      ]
     },
     "execution_count": 602,
     "metadata": {},
     "output_type": "execute_result"
    }
   ],
   "source": [
    "geo = ncs['200910']['Data']['geolocation']\n",
    "geo.variables.keys()\n",
    "lat =geo.variables.get('latitude')\n",
    "lon =geo.variables.get('longitude')\n",
    "lat.shape"
   ]
  },
  {
   "cell_type": "markdown",
   "metadata": {},
   "source": [
    "#### Searching for numLatitude and intervalLengthOfLatitude (+ longitude equivalents) in nc"
   ]
  },
  {
   "cell_type": "code",
   "execution_count": 603,
   "metadata": {},
   "outputs": [
    {
     "data": {
      "text/plain": [
       "[u'intervalLengthOfLatitude',\n",
       " u'intevalLengthOfLongitude',\n",
       " u'numLatitude',\n",
       " u'numLongitude']"
      ]
     },
     "execution_count": 603,
     "metadata": {},
     "output_type": "execute_result"
    }
   ],
   "source": [
    "nc = ncs['200910']\n",
    "ncattrs = nc.groups.get('Attribute')\n",
    "ncattrs.variables.keys()"
   ]
  },
  {
   "cell_type": "code",
   "execution_count": 604,
   "metadata": {},
   "outputs": [
    {
     "data": {
      "text/plain": [
       "144"
      ]
     },
     "execution_count": 604,
     "metadata": {},
     "output_type": "execute_result"
    }
   ],
   "source": [
    "aa = [v for k, v in ncattrs.variables.iteritems()]\n",
    "v = aa[0]\n",
    "v[0]\n",
    "\n",
    "aa[3][0]"
   ]
  },
  {
   "cell_type": "code",
   "execution_count": 605,
   "metadata": {},
   "outputs": [
    {
     "data": {
      "text/plain": [
       "[u'unit', u'validRange', u'longName', u'invalidValue']"
      ]
     },
     "execution_count": 605,
     "metadata": {},
     "output_type": "execute_result"
    }
   ],
   "source": [
    "ll = nc.groups.get('Data')['geolocation']['latitude']\n",
    "ll.ncattrs()"
   ]
  },
  {
   "cell_type": "markdown",
   "metadata": {},
   "source": [
    "#### Covert lats and lons to numpy arrays (right now netCDF.Variable)"
   ]
  },
  {
   "cell_type": "code",
   "execution_count": 606,
   "metadata": {
    "collapsed": true
   },
   "outputs": [],
   "source": [
    "lats = np.array(lat)\n",
    "lons = np.array(lon)"
   ]
  },
  {
   "cell_type": "code",
   "execution_count": 607,
   "metadata": {},
   "outputs": [
    {
     "data": {
      "text/plain": [
       "array([[ 88.75,  88.75,  88.75, ...,  88.75,  88.75,  88.75],\n",
       "       [ 86.25,  86.25,  86.25, ...,  86.25,  86.25,  86.25],\n",
       "       [ 83.75,  83.75,  83.75, ...,  83.75,  83.75,  83.75],\n",
       "       ..., \n",
       "       [-83.75, -83.75, -83.75, ..., -83.75, -83.75, -83.75],\n",
       "       [-86.25, -86.25, -86.25, ..., -86.25, -86.25, -86.25],\n",
       "       [-88.75, -88.75, -88.75, ..., -88.75, -88.75, -88.75]], dtype=float32)"
      ]
     },
     "execution_count": 607,
     "metadata": {},
     "output_type": "execute_result"
    }
   ],
   "source": [
    "lats"
   ]
  },
  {
   "cell_type": "code",
   "execution_count": 608,
   "metadata": {},
   "outputs": [
    {
     "data": {
      "text/plain": [
       "array([[-178.75, -176.25, -173.75, ...,  173.75,  176.25,  178.75],\n",
       "       [-178.75, -176.25, -173.75, ...,  173.75,  176.25,  178.75],\n",
       "       [-178.75, -176.25, -173.75, ...,  173.75,  176.25,  178.75],\n",
       "       ..., \n",
       "       [-178.75, -176.25, -173.75, ...,  173.75,  176.25,  178.75],\n",
       "       [-178.75, -176.25, -173.75, ...,  173.75,  176.25,  178.75],\n",
       "       [-178.75, -176.25, -173.75, ...,  173.75,  176.25,  178.75]], dtype=float32)"
      ]
     },
     "execution_count": 608,
     "metadata": {},
     "output_type": "execute_result"
    }
   ],
   "source": [
    "lons"
   ]
  },
  {
   "cell_type": "markdown",
   "metadata": {},
   "source": [
    "## Calculate and plot global average per year (eventually make this a fn)\n",
    "\n",
    "1. sum all month matrices for each year\n",
    "\n",
    "2. one gigantic matrix per year (need to keep track of valid and invalid numbers for division)\n",
    "3. average per year (make sure to divide by only valid_num) -> use numpy `mean()`\n",
    "4. plot timeseries\n",
    "\n",
    "### 2 and 3 -> numpy masked array took care of this. no need to keep track of invalid numbers\n",
    "\n",
    "Good reference: (https://stackoverflow.com/questions/26931318/averaging-multiple-masked-numpy-arrays-in-python)"
   ]
  },
  {
   "cell_type": "code",
   "execution_count": 745,
   "metadata": {},
   "outputs": [
    {
     "data": {
      "text/plain": [
       "OrderedDict([(2009, 1.7631361649328829),\n",
       "             (2010, 1.7680713253161526),\n",
       "             (2011, 1.7740664372109158),\n",
       "             (2012, 1.7792443956908857),\n",
       "             (2013, 1.7847130645941414),\n",
       "             (2014, 1.7943381471950925),\n",
       "             (2015, 1.8011343579254582),\n",
       "             (2016, 1.8088695560892187),\n",
       "             (2017, 1.8073336761597305)])"
      ]
     },
     "execution_count": 745,
     "metadata": {},
     "output_type": "execute_result"
    }
   ],
   "source": [
    "# Init OrderedDict with empty lists\n",
    "data_per_year = OrderedDict((year, []) for year in all_years)\n",
    "# print data_per_year\n",
    "\n",
    "# Init OrderedDict with invalid -1 \n",
    "global_annual_mean = OrderedDict((year, -1) for year in all_years)\n",
    "# print global_avg_per_year\n",
    "\n",
    "# all_years include up to 2017\n",
    "# years exclude 2017\n",
    "\n",
    "# Constructs data_per_year that maps\n",
    "# year (int) to a list of masked_data 2-d numpy arrays for all\n",
    "# available months in that year\n",
    "for key, _month_data in data2.iteritems():\n",
    "    (year, month_info) = get_year_month_tup(key)\n",
    "    (m_name, m_abbr, m_num) = month_info\n",
    "    data_per_year[year].append(_month_data['masked_data'])\n",
    "\n",
    "# NOW: Calculate mean of all masked 2-d numpy arrays per year\n",
    "# should result in single value per year\n",
    "# np.ma.array((a, b, c)).mean(axis=0)\n",
    "\n",
    "# I am the global annual means\n",
    "for year, data_ls in data_per_year.items():\n",
    "#     for d in data_ls:\n",
    "#         print d.shape # was causing error due to use of [] for missing months now excluded\n",
    "    annual_mean_matrix = np.ma.array((data_ls)).mean(axis=0)\n",
    "    global_annual_mean[year]= annual_mean_matrix.mean()\n",
    "\n",
    "global_annual_mean"
   ]
  },
  {
   "cell_type": "code",
   "execution_count": 739,
   "metadata": {},
   "outputs": [],
   "source": [
    "# data"
   ]
  },
  {
   "cell_type": "markdown",
   "metadata": {},
   "source": [
    "### Find the indices for latitude closest to 34.3"
   ]
  },
  {
   "cell_type": "code",
   "execution_count": 609,
   "metadata": {
    "scrolled": true
   },
   "outputs": [
    {
     "data": {
      "text/plain": [
       "33.75"
      ]
     },
     "execution_count": 609,
     "metadata": {},
     "output_type": "execute_result"
    }
   ],
   "source": [
    "lats[0,:] # -> 88.75 (top value) NH\n",
    "lats[71,:] # -88.75 (bottom value) SH\n",
    "\n",
    "lats[22][0] # closest\n",
    "lats[21][0], lats[23][0]\n",
    "\n",
    "lats[22][0] # choose row first (latitude) then all values in that row are equivalent, so pick first one"
   ]
  },
  {
   "cell_type": "markdown",
   "metadata": {},
   "source": [
    "### Find the indices for longitude closet to -118.6"
   ]
  },
  {
   "cell_type": "code",
   "execution_count": 610,
   "metadata": {
    "scrolled": true
   },
   "outputs": [
    {
     "data": {
      "text/plain": [
       "-118.75"
      ]
     },
     "execution_count": 610,
     "metadata": {},
     "output_type": "execute_result"
    }
   ],
   "source": [
    "lons[:, 0][0]# -> -178.75\n",
    "lons[: -1][0] \n",
    "np.where(lons[: -1][0] == -118.75)\n",
    "\n",
    "lons[0][24] # choose any row (picked first), and all lon values should be different across\n",
    "# pick the right oen located at i=24"
   ]
  },
  {
   "cell_type": "markdown",
   "metadata": {},
   "source": [
    "### Write a function (lambda to retrieve the aliso_data from each data matrix"
   ]
  },
  {
   "cell_type": "code",
   "execution_count": 611,
   "metadata": {},
   "outputs": [],
   "source": [
    "def get_aliso_data(_data):\n",
    "    # return -1 if masked_data is [] <-- these are missing months (4)\n",
    "    if _data['masked_data'] == []:\n",
    "        return -1\n",
    "    else:\n",
    "        return np.ma.getdata(_data['masked_data'][22][24]).item() or -1\n",
    "    # or statement exists so that -1 is returned in place of masked value of 0.0"
   ]
  },
  {
   "cell_type": "markdown",
   "metadata": {},
   "source": [
    "## This step of retrieving Aliso specific data needs validation***"
   ]
  },
  {
   "cell_type": "code",
   "execution_count": 612,
   "metadata": {},
   "outputs": [
    {
     "name": "stdout",
     "output_type": "stream",
     "text": [
      "--\n",
      "-1\n"
     ]
    },
    {
     "data": {
      "text/plain": [
       "masked"
      ]
     },
     "execution_count": 612,
     "metadata": {},
     "output_type": "execute_result"
    }
   ],
   "source": [
    "d1 = data['201506']\n",
    "d1['masked_data'].shape\n",
    "v = d1['masked_data'][22][24]\n",
    "print v\n",
    "d = np.ma.getdata(v)\n",
    "print 0.0 or -1\n",
    "# d.item()\n",
    "v"
   ]
  },
  {
   "cell_type": "markdown",
   "metadata": {},
   "source": [
    "## some manual validation"
   ]
  },
  {
   "cell_type": "code",
   "execution_count": 650,
   "metadata": {},
   "outputs": [
    {
     "name": "stdout",
     "output_type": "stream",
     "text": [
      "['201501', '201502', '201503', '201504', '201505', '201506', '201507', '201508', '201509', '201510', '201511', '201512']\n",
      "null\n",
      "1.81371\n",
      "1.81371\n",
      "1.81363\n",
      "1.81237\n",
      "--\n",
      "1.803\n",
      "--\n",
      "null\n",
      "--\n",
      "--\n",
      "--\n"
     ]
    }
   ],
   "source": [
    "ms = month_names.keys()\n",
    "\n",
    "#print ms # not ordered \n",
    "m2015 = sorted(['2015' + m for m in ms]) # sorted\n",
    "print m2015\n",
    "\n",
    "# for m in m2015:\n",
    "#     val = data.get(m)['masked_data']\n",
    "#     if val == []:\n",
    "#         print 'null'\n",
    "#     else:\n",
    "#         print val[22][24]"
   ]
  },
  {
   "cell_type": "code",
   "execution_count": 614,
   "metadata": {},
   "outputs": [],
   "source": [
    "# data"
   ]
  },
  {
   "cell_type": "markdown",
   "metadata": {},
   "source": [
    "## B. where aliso data is retrieved and added to `aliso_trend`"
   ]
  },
  {
   "cell_type": "code",
   "execution_count": 615,
   "metadata": {},
   "outputs": [],
   "source": [
    "for key, _month_data in data.iteritems():\n",
    "    (year, month_info) = get_year_month_tup(key)\n",
    "    (m_name, m_abbr, m_num) = month_info\n",
    "    \n",
    "    # this is either float value of methane concentration or -1 for invalid/missing data\n",
    "    aliso_monthly_ch4 = get_aliso_data(_month_data)\n",
    "    \n",
    "    # aliso_trend[year] is initialized to [-1, ... -1] that has twelve -1's\n",
    "    # append methane concentration\n",
    "    # the index location corresponds to month #\n",
    "    index = m_num - 1 # since Python is 0 indexed\n",
    "    aliso_trend[year][index] = aliso_monthly_ch4\n"
   ]
  },
  {
   "cell_type": "code",
   "execution_count": 616,
   "metadata": {},
   "outputs": [
    {
     "data": {
      "text/plain": [
       "1.8254609405994415"
      ]
     },
     "execution_count": 616,
     "metadata": {},
     "output_type": "execute_result"
    }
   ],
   "source": [
    "aliso_yearly_trend = []\n",
    "aliso_trend\n",
    "\n",
    "def get_yearly_average(_year_data):\n",
    "    num_invalid = _year_data.count(-1)\n",
    "    num_valid = 12.0 - num_invalid\n",
    "    sum_valid_data = sum([month_data for month_data in _year_data if month_data != -1])\n",
    "    if num_valid == 0: # 2017 had 0 valid data, 2017 removed but keeping this here\n",
    "        return -1 # invalid data\n",
    "    else: # to avoid float division by 0 error (1 case)\n",
    "        year_average = sum_valid_data / num_valid\n",
    "        return year_average\n",
    "\n",
    "# 2017 is not removed\n",
    "get_yearly_average(aliso_trend[2017]) # this is a good test case that should return 0!\n",
    "get_yearly_average(aliso_trend[2016])"
   ]
  },
  {
   "cell_type": "markdown",
   "metadata": {},
   "source": [
    "### 2017 does not have any valid data, just remove it"
   ]
  },
  {
   "cell_type": "code",
   "execution_count": 617,
   "metadata": {
    "collapsed": true
   },
   "outputs": [],
   "source": [
    "del aliso_trend[2017]"
   ]
  },
  {
   "cell_type": "code",
   "execution_count": 618,
   "metadata": {},
   "outputs": [],
   "source": [
    "#2016 in aliso_trend.keys() and 2017 not in aliso_trend.keys() # True"
   ]
  },
  {
   "cell_type": "code",
   "execution_count": 621,
   "metadata": {},
   "outputs": [],
   "source": [
    "for k, months_data in aliso_trend.items():\n",
    "    yearly_avg = get_yearly_average(months_data)\n",
    "    aliso_yearly_trend.append((k, yearly_avg))"
   ]
  },
  {
   "cell_type": "code",
   "execution_count": 624,
   "metadata": {},
   "outputs": [
    {
     "name": "stdout",
     "output_type": "stream",
     "text": [
      "[(2009, 1.7755793843950545), (2010, 1.780842771132787), (2011, 1.7835861146450043), (2012, 1.7882656753063202), (2013, 1.7968865633010864), (2014, 1.8032719161775377), (2015, 1.8112823963165283), (2016, 1.8254609405994415)]\n"
     ]
    }
   ],
   "source": [
    "print aliso_yearly_trend"
   ]
  },
  {
   "cell_type": "code",
   "execution_count": 631,
   "metadata": {
    "collapsed": true
   },
   "outputs": [],
   "source": [
    "def label_axes(_plt, x_lab, y_lab, title):\n",
    "    _plt.xlabel(x_lab,  fontsize=12)\n",
    "    _plt.ylabel(y_lab, fontsize=12)\n",
    "    _plt.title(title, fontsize=16)"
   ]
  },
  {
   "cell_type": "markdown",
   "metadata": {},
   "source": [
    "## Make a scatter plot for methane trend over 2009-2016, just for aliso\n",
    "\n",
    "#### Reference for legend:\n",
    "http://www.pybloggers.com/2015/09/my-first-time-using-matplotlib/"
   ]
  },
  {
   "cell_type": "code",
   "execution_count": 769,
   "metadata": {},
   "outputs": [],
   "source": [
    "def plot_annual_mean(_plt, _xs, _ys, _title, _xlab):\n",
    "    ylab = 'Methane Concentrations (ppmv)'\n",
    "    _plt.scatter(_xs, _ys, s=80, c='Lime', edgecolor='', alpha=0.8)\n",
    "    label_axes(_plt, _xlab, ylab, _title)\n",
    "    _plt.show()\n",
    "\n",
    "# reference\n",
    "# red_patch = mpatches.Patch(color='Purple', label='Near Aliso Canyon Oil Filed (33.75, -118.75)')\n",
    "# plt.legend(handles=[red_patch])\n",
    "plt.close()\n",
    "# plt.figure(figsize=(6, 6))\n",
    "# plot_annual_mean(plt, all_years, global_annual_mean.values(), 'GOSAT Global Annual Mean Methane Concentrations')\n",
    "# plt.savefig('gosat-yearly-average(2009-2017.png')\n"
   ]
  },
  {
   "cell_type": "markdown",
   "metadata": {},
   "source": [
    "## Remove 2017 data because it only has two months!!!"
   ]
  },
  {
   "cell_type": "code",
   "execution_count": 775,
   "metadata": {
    "scrolled": true
   },
   "outputs": [
    {
     "data": {
      "image/png": "[encoded data removed]",
      "text/plain": [
       "<matplotlib.figure.Figure at 0x1166a2d10>"
      ]
     },
     "metadata": {},
     "output_type": "display_data"
    }
   ],
   "source": [
    "plt.close()\n",
    "plt.figure(figsize=(6, 6))\n",
    "\n",
    "#del global_annual_mean[2017]\n",
    "global_annual_mean # no 2017\n",
    "global_annual_means = global_annual_mean.values()\n",
    "plot_annual_mean(plt, all_years[:-1], global_annual_mean.values(), 'GOSAT Global Annual Mean Methane Concentrations (2009-2016)'\n",
    "                , 'Years (2009 - 2016)')\n",
    "plt.savefig('gosat-yearly-average(2009-2016.png')"
   ]
  },
  {
   "cell_type": "code",
   "execution_count": null,
   "metadata": {
    "collapsed": true
   },
   "outputs": [],
   "source": []
  },
  {
   "cell_type": "code",
   "execution_count": 755,
   "metadata": {
    "scrolled": false
   },
   "outputs": [
    {
     "data": {
      "image/png": "[encoded data removed]",
      "text/plain": [
       "<matplotlib.figure.Figure at 0x11425c050>"
      ]
     },
     "metadata": {},
     "output_type": "display_data"
    }
   ],
   "source": [
    "xs = [y[0] for y in aliso_yearly_trend]\n",
    "ys = [y[1] for y in aliso_yearly_trend]\n",
    "\n",
    "plt.figure(figsize=(6, 6))\n",
    "plt.scatter(xs, ys, s=80, c='Purple', edgecolor='', alpha=0.8)\n",
    "label_axes(plt, 'Years (2009 - 2016)', 'Methane Concentrations (ppmv)', 'GOSAT Yearly Average Methane Concentrations (2009-2016)')\n",
    "#plt.savefig('gosat-yearly-average-aliso.png')\n",
    "\n",
    "# reference\n",
    "red_patch = mpatches.Patch(color='Purple', label='Near Aliso Canyon Oil Filed (33.75, -118.75)')\n",
    "plt.legend(handles=[red_patch])\n",
    "plt.show()"
   ]
  },
  {
   "cell_type": "code",
   "execution_count": 772,
   "metadata": {
    "collapsed": true
   },
   "outputs": [],
   "source": [
    "aliso_annual_means = ys"
   ]
  },
  {
   "cell_type": "code",
   "execution_count": 819,
   "metadata": {},
   "outputs": [],
   "source": [
    "def plot_annual_anomaly(_plt, _xs, _ys, _title, _xlab, addpatch=False, _color='lightsalmon'):\n",
    "    print _color\n",
    "    ylab = 'Methane Concentrations Anomaly (ppmv)'\n",
    "    _plt.scatter(_xs, _ys, s=80, c=_color, edgecolor='', alpha=0.8)\n",
    "    label_axes(_plt, _xlab, ylab, _title)\n",
    "    if addpatch:\n",
    "        patch = mpatches.Patch(color=_color, label='Near Aliso Canyon Oil Filed (33.75, -118.75)')\n",
    "        plt.legend(handles=[patch])\n",
    "    _plt.show()\n",
    "\n",
    "aliso_annual_anomaly = [aliso_mean - global_mean for aliso_mean, global_mean in zip(aliso_annual_means, global_annual_means)]"
   ]
  },
  {
   "cell_type": "code",
   "execution_count": 791,
   "metadata": {},
   "outputs": [
    {
     "data": {
      "text/plain": [
       "[0.012443219462171529,\n",
       " 0.012771445816634364,\n",
       " 0.009519677434088436,\n",
       " 0.0090212796154345298,\n",
       " 0.012173498706945063,\n",
       " 0.0089337689824451338,\n",
       " 0.010148038391070147,\n",
       " 0.016591384510222795]"
      ]
     },
     "execution_count": 791,
     "metadata": {},
     "output_type": "execute_result"
    }
   ],
   "source": [
    "aliso_annual_anomaly"
   ]
  },
  {
   "cell_type": "code",
   "execution_count": 793,
   "metadata": {
    "scrolled": true
   },
   "outputs": [
    {
     "data": {
      "image/png": "[encoded data removed]",
      "text/plain": [
       "<matplotlib.figure.Figure at 0x1176986d0>"
      ]
     },
     "metadata": {},
     "output_type": "display_data"
    }
   ],
   "source": [
    "plt.close()\n",
    "plt.figure(figsize=(6, 6))\n",
    "\n",
    "plot_annual_anomaly(plt, all_years[:-1], aliso_annual_anomaly, \n",
    "                 'GOSAT Yearly Average Methane Anomalies (2009-2016)', 'Years (2009-2016)', addpatch=True)\n",
    "plt.show()\n",
    "plt.savefig('gosat-year-average-methane-anomaly-2009-2016')\n"
   ]
  },
  {
   "cell_type": "code",
   "execution_count": 806,
   "metadata": {},
   "outputs": [
    {
     "data": {
      "image/png": "[encoded data removed]",
      "text/plain": [
       "<matplotlib.figure.Figure at 0x1176f1210>"
      ]
     },
     "metadata": {},
     "output_type": "display_data"
    }
   ],
   "source": [
    "aliso_annual_anomaly = [aliso_mean - global_mean for aliso_mean, global_mean in zip(aliso_annual_means, [the_global_mean]*8)]\n",
    "\n",
    "plt.close()\n",
    "plt.figure(figsize=(6, 6))\n",
    "\n",
    "plot_annual_anomaly(plt, all_years[:-1], aliso_annual_anomaly, \n",
    "                 'GOSAT Yearly Average Methane Anomalies* (2009-2016)', 'Years (2009-2016)', addpatch=True)\n",
    "plt.show()\n",
    "plt.savefig('gosat-year-average-methane-anomaly-2009-2016*')"
   ]
  },
  {
   "cell_type": "markdown",
   "metadata": {},
   "source": [
    "### Use `aliso_trend` to plot anomalies per month-year"
   ]
  },
  {
   "cell_type": "code",
   "execution_count": 887,
   "metadata": {
    "collapsed": true
   },
   "outputs": [],
   "source": [
    "def plot_monthly_anomaly(_plt, _xs, _ys, _title, _xlab, addpatch=False, _color='lightseagreen'):\n",
    "    ylab = 'Methane Concentrations Anomaly (ppmv)'\n",
    "    _plt.scatter(_xs, _ys, s=80, c=_color, edgecolor='', alpha=0.8)\n",
    "    label_axes(_plt, _xlab, ylab, _title)\n",
    "    plt.xticks(np.arange(min(_xs), max(_xs)+1, 3))\n",
    "    if addpatch:\n",
    "        patch = mpatches.Patch(color=_color, label='Near Aliso Canyon Oil Filed (33.75, -118.75)')\n",
    "        plt.legend(handles=[patch])\n",
    "    _plt.show()\n",
    "\n",
    "aliso_annual_anomaly = [aliso_mean - global_mean for aliso_mean, global_mean in zip(aliso_annual_means, global_annual_means)]"
   ]
  },
  {
   "cell_type": "markdown",
   "metadata": {},
   "source": [
    "## The global mean 2009-2016"
   ]
  },
  {
   "cell_type": "code",
   "execution_count": 803,
   "metadata": {},
   "outputs": [
    {
     "name": "stdout",
     "output_type": "stream",
     "text": [
      "1.78419668112\n"
     ]
    }
   ],
   "source": [
    "the_global_mean = sum(global_annual_means)/len(global_annual_means)\n",
    "print the_global_mean"
   ]
  },
  {
   "cell_type": "markdown",
   "metadata": {},
   "source": [
    "## plot aliso and global anomalies using the global_mean"
   ]
  },
  {
   "cell_type": "code",
   "execution_count": 820,
   "metadata": {},
   "outputs": [
    {
     "name": "stdout",
     "output_type": "stream",
     "text": [
      "Lime\n"
     ]
    },
    {
     "data": {
      "image/png": "[encoded data removed]",
      "text/plain": [
       "<matplotlib.figure.Figure at 0x115a0dc10>"
      ]
     },
     "metadata": {},
     "output_type": "display_data"
    }
   ],
   "source": [
    "plt.close()\n",
    "plt.figure(figsize=(6, 6))\n",
    "\n",
    "\n",
    "global_annual_mean_anomalies =[global_year_val - global_mean for global_year_val, global_mean in zip(global_annual_mean.values(), [the_global_mean]*8)]\n",
    "\n",
    "plot_annual_anomaly(plt, all_years[:-1], global_annual_mean_anomalies, 'GOSAT Global Annual Mean Methane Anomalies (2009-2016)'\n",
    "                , 'Years (2009 - 2016)', _color='Lime')\n",
    "plt.show()\n",
    "plt.savefig('gosat-annual-mean-methane-anomalies(2009-2016).png')"
   ]
  },
  {
   "cell_type": "code",
   "execution_count": 823,
   "metadata": {},
   "outputs": [
    {
     "name": "stdout",
     "output_type": "stream",
     "text": [
      "2009\n",
      "12\n",
      "2010\n",
      "12\n",
      "2011\n",
      "12\n",
      "2012\n",
      "12\n",
      "2013\n",
      "12\n",
      "2014\n",
      "12\n",
      "2015\n",
      "12\n",
      "2016\n",
      "12\n"
     ]
    }
   ],
   "source": [
    "for k, v in aliso_trend_masked.items():\n",
    "    print k\n",
    "    print len(v)"
   ]
  },
  {
   "cell_type": "code",
   "execution_count": 851,
   "metadata": {},
   "outputs": [
    {
     "name": "stdout",
     "output_type": "stream",
     "text": [
      "True\n",
      "[-- -- -- -- -- 0.014204724044167838 0.006873710364663443\n",
      " 0.00917421123441442 0.016923172683083854 0.015074594230019889\n",
      " 0.013069613189065299 0.011782510489785514]\n"
     ]
    }
   ],
   "source": [
    "aliso_trend_masked = OrderedDict()\n",
    "\n",
    "for k, v in aliso_trend.items():\n",
    "    aliso_trend_masked[k] = np.ma.masked_equal(v, -1)\n",
    "\n",
    "aliso_monthly_anomaly = [aliso_month_mean - global_mean for aliso_month_mean, global_mean in\n",
    "                        zip(aliso_trend_masked.values(), global_annual_means)]\n",
    "print len(aliso_monthly_anomaly) is 8\n",
    "print aliso_monthly_anomaly[0]"
   ]
  },
  {
   "cell_type": "code",
   "execution_count": 871,
   "metadata": {
    "scrolled": true
   },
   "outputs": [
    {
     "name": "stdout",
     "output_type": "stream",
     "text": [
      "91\n"
     ]
    }
   ],
   "source": [
    "first_item = aliso_monthly_anomaly[0]\n",
    "# print first_item\n",
    "\n",
    "aliso_monthly_anomaly2 = first_item\n",
    "\n",
    "for month_mean in aliso_monthly_anomaly[1:]:\n",
    "    aliso_monthly_anomaly2 = np.ma.append(aliso_monthly_anomaly2, month_mean)\n",
    "    \n",
    "# for month_means in aliso_monthly_anomaly:\n",
    "#     print len(month_means)\n",
    "#     np.ma.append(all_aliso_monthly_anomalies, month_means)\n",
    "    \n",
    "print len(aliso_monthly_anomaly2[5:])\n",
    "# remove 2009 Jan to May (5 no data)\n"
   ]
  },
  {
   "cell_type": "markdown",
   "metadata": {},
   "source": [
    "## Plot monthly anomalies! aliso - global\n",
    "\n",
    "    `aliso_monthly_anomaly2`: 12*8 long list of aliso anomalies for 8 years. masked array\n",
    "    `month_years`: string combo of 200906 to 201702 # 93 values"
   ]
  },
  {
   "cell_type": "code",
   "execution_count": 864,
   "metadata": {},
   "outputs": [
    {
     "data": {
      "text/plain": [
       "93"
      ]
     },
     "execution_count": 864,
     "metadata": {},
     "output_type": "execute_result"
    }
   ],
   "source": [
    "7*12+7 + 2 # 7 years,AND 7 for 2009, 2 for 2017"
   ]
  },
  {
   "cell_type": "code",
   "execution_count": 873,
   "metadata": {},
   "outputs": [
    {
     "data": {
      "text/plain": [
       "91"
      ]
     },
     "execution_count": 873,
     "metadata": {},
     "output_type": "execute_result"
    }
   ],
   "source": [
    "len(month_years[:-2])"
   ]
  },
  {
   "cell_type": "code",
   "execution_count": 874,
   "metadata": {},
   "outputs": [
    {
     "data": {
      "text/plain": [
       "91"
      ]
     },
     "execution_count": 874,
     "metadata": {},
     "output_type": "execute_result"
    }
   ],
   "source": [
    "len(aliso_monthly_anomaly2[5:])"
   ]
  },
  {
   "cell_type": "code",
   "execution_count": 884,
   "metadata": {},
   "outputs": [],
   "source": [
    "# aliso_monthly_anomaly2[5:]"
   ]
  },
  {
   "cell_type": "code",
   "execution_count": 896,
   "metadata": {},
   "outputs": [
    {
     "data": {
      "image/png": "[encoded data removed]",
      "text/plain": [
       "<matplotlib.figure.Figure at 0x113c7ab10>"
      ]
     },
     "metadata": {},
     "output_type": "display_data"
    }
   ],
   "source": [
    "plt.close()\n",
    "plt.figure(figsize=(18, 6))\n",
    "#def plot_monthly_anomaly(_plt, _xs, _ys, _title, _xlab, addpatch=False, _color='lightseagreen'):\n",
    "\n",
    "month_years = ncs.keys() # corrected missing data version\n",
    "\n",
    "dates = [i for i in range(len(aliso_monthly_anomaly2[5:]))]\n",
    "aliso_data = aliso_monthly_anomaly2[5:]\n",
    "plt.plot(dates, aliso_data)\n",
    "plt.axvline(x=77, c='Red')\n",
    "plt.axvline(x=78, c='Red')\n",
    "plt.axvline(x=79, c='Red')\n",
    "plt.axvline(x=80, c='Red')\n",
    "plt.axvline(x=81, c='Red')\n",
    "plot_monthly_anomaly(plt, dates, \n",
    "                     aliso_monthly_anomaly2[5:], \n",
    "                     'GOSAT Monthly Methane Anomalies for the Aliso Canyon Oil Field', \n",
    "                     'Month-Year (06/2009- 12/2016)')\n",
    "\n",
    "plt.show()\n",
    "plt.savefig('gosat-monthly-anomaly-aliso-2009-2016')"
   ]
  },
  {
   "cell_type": "markdown",
   "metadata": {},
   "source": [
    "###\n",
    "\n",
    "since \n",
    "begin 2009 jun\n",
    "\n",
    "end 2016 dec\n",
    "\n",
    "there are 91 dates\n",
    "\n",
    "2009 6-12  7\n",
    "\n",
    "2010 12    19\n",
    "\n",
    "2011 12    31\n",
    "\n",
    "2012 12    43\n",
    "\n",
    "2013 12    55\n",
    "\n",
    "2014 12    67\n",
    "\n",
    "2015 12 \n",
    "  - sept 9 76\n",
    "  -  oct    *77*\n",
    "  - dec    79\n",
    "    \n",
    "2016 12\n",
    "  - jan    80\n",
    "  - feb    *81*\n",
    "  - dec    91\n",
    "\n",
    "77-81 are aliso months"
   ]
  },
  {
   "cell_type": "markdown",
   "metadata": {},
   "source": [
    "### NOW calculate seasonal means\n",
    "\n",
    "1. Sum all months -> one matrix per month\n",
    "\n",
    "2. Calculate average of each month\n",
    "\n",
    "3.\n"
   ]
  },
  {
   "cell_type": "code",
   "execution_count": null,
   "metadata": {
    "collapsed": true
   },
   "outputs": [],
   "source": []
  }
 ],
 "metadata": {
  "kernelspec": {
   "display_name": "Python 2",
   "language": "python",
   "name": "python2"
  },
  "language_info": {
   "codemirror_mode": {
    "name": "ipython",
    "version": 2
   },
   "file_extension": ".py",
   "mimetype": "text/x-python",
   "name": "python",
   "nbconvert_exporter": "python",
   "pygments_lexer": "ipython2",
   "version": "2.7.12"
  }
 },
 "nbformat": 4,
 "nbformat_minor": 2
}
