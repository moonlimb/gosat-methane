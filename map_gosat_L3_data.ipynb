{
 "cells": [
  {
   "cell_type": "code",
   "execution_count": null,
   "metadata": {
    "collapsed": true
   },
   "outputs": [],
   "source": [
    "# Python built-in library imports\n",
    "import os\n",
    "from collections import OrderedDict\n",
    "\n",
    "# pip installed library imports\n",
    "import h5py\n",
    "import matplotlib.cm as cm\n",
    "import matplotlib.colors\n",
    "import matplotlib.pyplot as plt\n",
    "import netCDF4\n",
    "import numpy as np\n",
    "import pandas as pd\n",
    "import scipy as sci\n",
    "\n",
    "import mpl_toolkits\n",
    "from mpl_toolkits.basemap import Basemap"
   ]
  },
  {
   "cell_type": "code",
   "execution_count": null,
   "metadata": {
    "collapsed": true
   },
   "outputs": [],
   "source": [
    "filepath = '/Users/mlimb/sio/methane/gosat/data/SWIRL3CH4/aliso/{}'\n",
    "filepath2 = '/Users/mlimb/sio/methane/gosat/data/SWIRL3CH4/aliso/FEB/{}'\n",
    "filepath10 = '/Users/mlimb/sio/methane/gosat/data/SWIRL3CH4/aliso/OCT/{}'"
   ]
  },
  {
   "cell_type": "code",
   "execution_count": null,
   "metadata": {
    "collapsed": true
   },
   "outputs": [],
   "source": [
    "# oct_15 = '15-OCT-GOSATTFTS2015100120151031_03C02SV0260.h5'\n",
    "# oct_15[0:6] # outputs: '15-OCT' use the first 5 letters of the filename as a figure title"
   ]
  },
  {
   "cell_type": "code",
   "execution_count": null,
   "metadata": {
    "collapsed": true
   },
   "outputs": [],
   "source": [
    "# check the contents of the directory\n",
    "# os.listdir('./data/SWIRL3CH4/aliso/')\n",
    "# os.listdir('./data/SWIRL3CH4/aliso/OCT')"
   ]
  },
  {
   "cell_type": "markdown",
   "metadata": {},
   "source": [
    "## Figure titles for the histograms and maps"
   ]
  },
  {
   "cell_type": "code",
   "execution_count": null,
   "metadata": {
    "collapsed": true
   },
   "outputs": [],
   "source": [
    "title = 'Monthly Averaged Methane Column Mixing Ratio (20{})'\n",
    "hist_title = 'Monthly Averaged Methane Column Mixing Ratio (20{})'\n",
    "map_title = 'Monthly Averaged Methane Column Mixing Ratio (20{})'"
   ]
  },
  {
   "cell_type": "markdown",
   "metadata": {},
   "source": [
    "## List the filenames"
   ]
  },
  {
   "cell_type": "code",
   "execution_count": null,
   "metadata": {
    "collapsed": true
   },
   "outputs": [],
   "source": [
    "# Aliso Canyon Duration\n",
    "oct_15 = '15-OCT-GOSATTFTS2015100120151031_03C02SV0260.h5' # leak identified\n",
    "nov_15 = '15-NOV-GOSATTFTS2015110120151130_03C02SV0260.h5'\n",
    "dec_15 = '15-DEC-GOSATTFTS2015120120151231_03C02SV0260.h5'\n",
    "jan_16 = '16-JAN-GOSATTFTS2016010120160131_03C02SV0260.h5'\n",
    "feb_16 = '16-FEB-GOSATTFTS2016020120160229_03C02SV0260.h5' # leak plugged\n",
    "mar_16 = '16-MARCH-GOSATTFTS2016030120160331_03C02SV0260.h5'\n",
    "\n",
    "# February data\n",
    "feb_13 = '13-FEB-GOSATTFTS2013020120130228_03C02SV0221.h5'\n",
    "feb_14 = '14-FEB-GOSATTFTS2014020120140228_03C02SV0221.h5'\n",
    "feb_15 = '15-FEB-GOSATTFTS2015020120150228_03C02SV0240.h5'\n",
    "# feb_16 included in aliso canyon\n",
    "# feb_16 = '16-FEB-GOSATTFTS2016020120160229_03C02SV0260.h5'\n",
    "feb_17 = '17-FEB-GOSATTFTS2017020120170228_03C02SV0260.h5'\n",
    "\n",
    "# October data\n",
    "oct_09='09-OCT-GOSATTFTS2009100120091031_03C02SV0221.h5'\n",
    "oct_10='10-OCT-GOSATTFTS2010100120101031_03C02SV0221.h5'\n",
    "oct_11= '11-OCT-GOSATTFTS2011100120111031_03C02SV0221.h5'\n",
    "oct_12= '12-OCT-GOSATTFTS2012100120121031_03C02SV0221.h5'\n",
    "oct_13= '13-OCT-GOSATTFTS2013100120131031_03C02SV0221.h5'\n",
    "oct_14= '14-OCT-GOSATTFTS2014100120141031_03C02SV0231.h5'\n",
    "# oct_15 included in aliso canyon\n",
    "# oct_15= '15-OCT-GOSATTFTS2015100120151031_03C02SV0260.h5'\n",
    "oct_16= '16-OCT-GOSATTFTS2016100120161031_03C02SV0260.h5'"
   ]
  },
  {
   "cell_type": "markdown",
   "metadata": {},
   "source": [
    "### Create a list of filenames for: October, February and Aliso Canyon Months"
   ]
  },
  {
   "cell_type": "code",
   "execution_count": null,
   "metadata": {
    "collapsed": true
   },
   "outputs": [],
   "source": [
    "ls_octs = [oct_09, oct_10, oct_11, oct_12, oct_13, oct_14, oct_15, oct_16]\n",
    "ls_febs = [feb_13, feb_14, feb_15, feb_16, feb_17]\n",
    "ls_months = [oct_15, nov_15, dec_15, jan_16, feb_16, mar_16]"
   ]
  },
  {
   "cell_type": "markdown",
   "metadata": {},
   "source": [
    "### Create ordred dictionary that maps month-year string to filename\n",
    "\n",
    "ex. '15-OCT' -> '15-OCT-GOSATTFTS2015100120151031_03C02SV0260.h5'"
   ]
  },
  {
   "cell_type": "code",
   "execution_count": null,
   "metadata": {
    "collapsed": true
   },
   "outputs": [],
   "source": [
    "ls_date_and_files = OrderedDict()\n",
    "oct_data = OrderedDict()\n",
    "feb_data = OrderedDict()\n",
    "\n",
    "for name in ls_months:\n",
    "    #print name\n",
    "    ls_date_and_files[name[0:6]] = name\n",
    "\n",
    "for name in ls_octs:\n",
    "    #print name\n",
    "    oct_data[name[0:6]] = name\n",
    "    \n",
    "for name in ls_febs:\n",
    "    feb_data[name[0:6]] = name"
   ]
  },
  {
   "cell_type": "code",
   "execution_count": null,
   "metadata": {
    "collapsed": true
   },
   "outputs": [],
   "source": [
    "# check outpus/ \n",
    "# print ls_date_and_files\n",
    "# print ls_octs"
   ]
  },
  {
   "cell_type": "markdown",
   "metadata": {},
   "source": [
    "### Read and store hdf5 files\n",
    "\n",
    "hdf5 files can be read by netCDF4 module. I tried several other ways (Ex. h5py) of reading hdf5 files, but settled on this one."
   ]
  },
  {
   "cell_type": "code",
   "execution_count": null,
   "metadata": {
    "collapsed": true
   },
   "outputs": [],
   "source": [
    "# test test\n",
    "# nc = netCDF4.Dataset(filepath.format(jan_16))\n",
    "\n",
    "# initialize empty OrderedDicts\n",
    "ncs = OrderedDict()\n",
    "ncs_feb = OrderedDict()\n",
    "ncs_oct = OrderedDict()\n",
    "\n",
    "for title, filename in ls_date_and_files.items():\n",
    "    # print title\n",
    "    # print filepath.format(filename)\n",
    "    ncs[title] = netCDF4.Dataset(filepath.format(filename))\n",
    "\n",
    "for title, filename in feb_data.items():\n",
    "    ncs_feb[title] = netCDF4.Dataset(filepath2.format(filename))\n",
    "\n",
    "for title, filename in oct_data.items():\n",
    "    ncs_oct[title] = netCDF4.Dataset(filepath10.format(filename))"
   ]
  },
  {
   "cell_type": "markdown",
   "metadata": {},
   "source": [
    "### NOTE: -9999.0 is invalid value and need to be masked"
   ]
  },
  {
   "cell_type": "code",
   "execution_count": null,
   "metadata": {},
   "outputs": [],
   "source": [
    "aa =ncs_oct['09-OCT']['Data']['mixingRatio']['XCH4'].invalidValue\n",
    "aa"
   ]
  },
  {
   "cell_type": "markdown",
   "metadata": {},
   "source": [
    "### Some helpful functions for retrieving data from hdf5 files"
   ]
  },
  {
   "cell_type": "code",
   "execution_count": null,
   "metadata": {
    "collapsed": true,
    "scrolled": true
   },
   "outputs": [],
   "source": [
    "def get_ch4_data(nc):\n",
    "    \"\"\"Return the monthly methane average column mixing ratio values as 2D numpy array\"\"\"\n",
    "    ch4 = nc.groups['Data']['mixingRatio']['XCH4']\n",
    "    return np.array(ch4)\n",
    "\n",
    "def get_ch4_masked_data(nc):\n",
    "    \"\"\"Return the *masked* monthly methane average column mixing ratio values\n",
    "    \n",
    "    *This is what should be used to generate figures as invalid values will be masked\n",
    "    and automatically NOT Plotted\n",
    "    \"\"\"\n",
    "    ch4 = nc.groups['Data']['mixingRatio']['XCH4']\n",
    "    masked_data = np.ma.masked_equal(ch4, value=ch4.invalidValue)\n",
    "#   print masked_data\n",
    "    return masked_data\n",
    "\n",
    "def get_ch4_mask(nc):\n",
    "    \"\"\"Return the mask array as 2D numpy array\n",
    "    \n",
    "    * Used get_ch4_masked_data. Easier to use numpy module to mask then to do it manually!\n",
    "    \"\"\"\n",
    "    mask = nc.groups['Data']['maskInformation']['XCH4Mask']\n",
    "    return np.array(mask)"
   ]
  },
  {
   "cell_type": "markdown",
   "metadata": {},
   "source": [
    "### Create an ordered dictionary to store data!!"
   ]
  },
  {
   "cell_type": "code",
   "execution_count": null,
   "metadata": {
    "collapsed": true
   },
   "outputs": [],
   "source": [
    "# init emtpy ordered dicts\n",
    "data = OrderedDict()\n",
    "data2 = OrderedDict()\n",
    "data10= OrderedDict()\n",
    "\n",
    "\n",
    "def make_data_dict(_ncs, _data=OrderedDict()):  \n",
    "    \"\"\"Populate the given OrderedDict with given hdf5 data\n",
    "    Note: If no OrderedDict is given, create an empty one\n",
    "    \n",
    "    Result:\n",
    "        OrderedDict will have these keys: data, masked_data, mask and flat_data\n",
    "        \n",
    "    * Currently, *masked_data* is used to generate all the maps\n",
    "    * 'data' and 'mask' are NOT used. consider removing!\n",
    "    * flat_data is 1D version of 2D arrays and is used to generate histograms\n",
    "    \"\"\"\n",
    "    for key, _nc in _ncs.items():\n",
    "        _data[key] = {}\n",
    "        _data[key]['data'] = get_ch4_data(_nc) # not used \n",
    "        _data[key]['masked_data'] = get_ch4_masked_data(_nc) # used to make maps\n",
    "        _data[key]['mask'] = get_ch4_mask(_nc) # not used\n",
    "        _data[key]['flat_data'] = _data[key]['data'].flatten() # used to make histograms\n",
    "    #return _data # commenting this line prevents output"
   ]
  },
  {
   "cell_type": "markdown",
   "metadata": {},
   "source": [
    "### Call *make_data_dict* to populate the empty ordered dictionaries with data"
   ]
  },
  {
   "cell_type": "code",
   "execution_count": null,
   "metadata": {
    "collapsed": true
   },
   "outputs": [],
   "source": [
    "# # test test\n",
    "make_data_dict(ncs, data)"
   ]
  },
  {
   "cell_type": "code",
   "execution_count": null,
   "metadata": {
    "collapsed": true
   },
   "outputs": [],
   "source": [
    "make_data_dict(ncs_feb, data2)\n",
    "make_data_dict(ncs_oct, data10)"
   ]
  },
  {
   "cell_type": "code",
   "execution_count": null,
   "metadata": {},
   "outputs": [],
   "source": [
    "# some checking of dictionary keys\n",
    "#ncs.keys()\n",
    "#data.keys()"
   ]
  },
  {
   "cell_type": "markdown",
   "metadata": {},
   "source": [
    "# Function to plot histogram"
   ]
  },
  {
   "cell_type": "code",
   "execution_count": null,
   "metadata": {
    "collapsed": true
   },
   "outputs": [],
   "source": [
    "def plot_hist(_plt, _data, _title, x_range, y_max=600, color_type='darkred'):\n",
    "    \"\"\"\n",
    "    _plt [matplotlib.pyplot]\n",
    "    _data [2D Numpy array] input data (already flattened)\n",
    "    \"\"\"\n",
    "    _plt.figure(figsize=(6,4))\n",
    "\n",
    "    # x_range is a tuple of min and max value range\n",
    "    # this is done to ignore invalid value -9999.0\n",
    "    # NOTE: I haven't tried generating historgram since masking\n",
    "    # Might no longer need to manually define x_range to ignore invalid value\n",
    "    min_val = x_range[0]\n",
    "    max_val = x_range[1]\n",
    "   \n",
    "    _plt.hist(_data, 100, [min_val, max_val], color=color_type, rwidth=0.9)\n",
    "    #_plt.hist(_data, 100, color=color_type, rwidth=0.9)\n",
    "\n",
    "    # set x range\n",
    "    _plt.xlim([min_val, max_val])\n",
    "    _plt.ylim([0, y_max])\n",
    "    \n",
    "    # round the maximum data value to 3 sig figs to display in the figure\n",
    "    # otherwise it's a long float\n",
    "    hist_max = round(np.amax(_data), 3)\n",
    "        \n",
    "    # set labels, legend and title\n",
    "    _plt.xlabel('Methane Column Mixing Ratio [{},{}]'.format(min_val, max_val))\n",
    "    _plt.ylabel('Count')\n",
    "    _plt.legend(('Max (ppm): {0:.2f}'.format(hist_max), 'why '), loc='upper left')\n",
    "    _plt.title(hist_title.format(_title))\n",
    "    \n",
    "    # lets create nice figs\n",
    "    _plt.savefig('{}-hist-XCH4.png'.format(_title))\n",
    "    \n",
    "    # and display them here\n",
    "    #_plt.show() # commenting out now since they will be saved\n",
    "    \n",
    "def get_range(_data):\n",
    "    \"\"\"Return the range of data using numpy amin and amax functions\"\"\"\n",
    "    return (np.amin(_data), np.amax(_data))"
   ]
  },
  {
   "cell_type": "markdown",
   "metadata": {},
   "source": [
    "### Generate histograms for Aliso Canyon Months (*data*)\n",
    "\n",
    "These are green (perhaps not best color choice given that Aliso Canyon Gas Leak was a public disaster). But these are for exploratory use only."
   ]
  },
  {
   "cell_type": "code",
   "execution_count": null,
   "metadata": {
    "collapsed": true
   },
   "outputs": [],
   "source": [
    "for title, datum in data.iteritems():\n",
    "    #print title\n",
    "    #print data[title].keys()\n",
    "    plot_hist(plt, data[title]['flat_data'], title, x_range=(1.70, 1.9), y_max=500, color_type='green')"
   ]
  },
  {
   "cell_type": "markdown",
   "metadata": {},
   "source": [
    "### Generate histograms for October months (2009-2016) (*data10*)\n",
    "\n",
    "These are purple. Using different x_range compared to aliso canyon"
   ]
  },
  {
   "cell_type": "code",
   "execution_count": null,
   "metadata": {},
   "outputs": [],
   "source": [
    "plt.close() # not sure if necessary\n",
    "\n",
    "for title, datum in data10.iteritems():\n",
    "    plot_hist(plt, data10[title]['flat_data'], title, x_range=(1.5, 2.0), y_max=500,color_type='purple')"
   ]
  },
  {
   "cell_type": "code",
   "execution_count": null,
   "metadata": {
    "scrolled": true
   },
   "outputs": [],
   "source": [
    "## BAD practice to comment code. but saving for future ref\n",
    "\n",
    "ncs.keys()\n",
    "geo = ncs['15-OCT']['Data']['geolocation']\n",
    "geo.variables.keys()\n",
    "lat =geo.variables.get('latitude')\n",
    "lon =geo.variables.get('longitude')\n",
    "lat.shape"
   ]
  },
  {
   "cell_type": "markdown",
   "metadata": {},
   "source": [
    "### DEFINE lats and lons"
   ]
  },
  {
   "cell_type": "code",
   "execution_count": null,
   "metadata": {},
   "outputs": [],
   "source": [
    "lats = np.array(lat)\n",
    "lons = np.array(lon)"
   ]
  },
  {
   "cell_type": "code",
   "execution_count": null,
   "metadata": {
    "collapsed": true
   },
   "outputs": [],
   "source": [
    "# print mask['threshold'].value\n",
    "# print mask['thresholdType'].value"
   ]
  },
  {
   "cell_type": "code",
   "execution_count": null,
   "metadata": {
    "collapsed": true
   },
   "outputs": [],
   "source": [
    "# def get_members(node, attr):\n",
    "#     print type(node)\n",
    "    \n",
    "    \n",
    "#     if type(node) is h5py.File:\n",
    "#         for k in node.get(attr).keys():\n",
    "#             print k\n",
    "#     elif type(node) is h5py.Group:\n",
    "#         print 'group \\n'\n",
    "#         for k in node.get(attr):\n",
    "#             print k\n",
    "#     else:\n",
    "#         print 'hello world'\n",
    "\n",
    "# print get_members(f, 'Attribute')\n",
    "# print get_members(f.get('Attribute'), 'metadata')\n",
    "# #print get_members(f.get('Attribute'), 'intervalLengthOfLatitude')\n",
    "\n",
    "\n",
    "# dir(f)\n",
    "# dd = f.get('Attribute').get('metadata')\n",
    "\n",
    "# def nrr(hdf_data):\n",
    "#     return np.array(hdf_data)\n",
    "\n",
    "# print nrr(dd['month'])\n",
    "# print nrr(dd['year'])\n"
   ]
  },
  {
   "cell_type": "code",
   "execution_count": null,
   "metadata": {
    "collapsed": true
   },
   "outputs": [],
   "source": [
    "# attr = f.get('Attribute')\n",
    "# glat = attr.get('numLatitude')\n",
    "# glon = attr.get('numLongitude')\n",
    "\n",
    "# print nrr(glat)\n",
    "# print nrr(glon)\n",
    "# print attr.get('intervalLengthOfLatitude').value\n",
    "# print attr.get('intevalLengthOfLongitude').value\n",
    "\n",
    "# print attr.get('ovalParameter').values()\n",
    "# print attr.get('modelParameter').values()"
   ]
  },
  {
   "cell_type": "code",
   "execution_count": null,
   "metadata": {
    "collapsed": true,
    "scrolled": true
   },
   "outputs": [],
   "source": [
    "# attr = f['Attribute']\n",
    "# data = f['Data']\n",
    "# gg = f['Global']\n",
    "# f['Attribute'].values()"
   ]
  },
  {
   "cell_type": "code",
   "execution_count": null,
   "metadata": {},
   "outputs": [],
   "source": [
    "# oct_15 = ncs['15-OCT']\n",
    "# oct_15.filepath() # validation\n",
    "# oct_15_ch4 = oct_15['Data']['mixingRatio']['XCH4']\n",
    "# oct_15['Data']['mixingRatio']"
   ]
  },
  {
   "cell_type": "code",
   "execution_count": null,
   "metadata": {},
   "outputs": [],
   "source": [
    "# data10['15-OCT']"
   ]
  },
  {
   "cell_type": "code",
   "execution_count": null,
   "metadata": {
    "collapsed": true
   },
   "outputs": [],
   "source": [
    "lat_bottom = 31.5\n",
    "lat_top = 42.5\n",
    "lon_left = -124.5\n",
    "lon_right = -113.5\n",
    "\n",
    "    \n",
    "def california_map(ax=None, lllat=32.5, urlat=42.5,\n",
    "                   lllon=-124.5, urlon=-113.5):\n",
    "    plt.figure(figsize=(10,10))\n",
    "    m = Basemap(ax=ax, projection='stere',\n",
    "                lon_0=(urlon + lllon) / 2,\n",
    "                lat_0=(urlat + lllat) / 2,\n",
    "                llcrnrlat=lllat, urcrnrlat=urlat,\n",
    "                llcrnrlon=lllon, urcrnrlon=urlon,\n",
    "                resolution='h')\n",
    "    m.drawstates()\n",
    "    m.drawcountries()\n",
    "    m.drawcoastlines(color='lightblue')\n",
    "    m.drawlsmask(land_color='white', ocean_color='0.8', lakes=False)\n",
    "    return m\n",
    "\n",
    "def make_ca_map(_plt, data_month, _lons, _lats, _title_name):\n",
    "    # make a map of california\n",
    "    m = california_map()\n",
    "    \n",
    "    # generate lats and lons for the map\n",
    "    x, y = m(_lons, _lats)\n",
    "    \n",
    "    # vmin and vmax constrain the axes\n",
    "    # s is the circle size\n",
    "    # alpha?\n",
    "#     print np.amin(data_month)\n",
    "#     print np.amax(data_month)\n",
    "    m.scatter(x, y, c=data_month, s=5000, alpha=1.0, \n",
    "              vmin=1.77, vmax=1.83, \n",
    "              edgecolors='none', cmap=cm.spectral)\n",
    "\n",
    "    c = m.colorbar(location='right')\n",
    "    c.set_label(\"Methane Concentration (PPMV)\")\n",
    "    \n",
    "    # add title\n",
    "    _plt.xlabel('Longitude [{}, {}]'.format(lon_left, lon_right), fontsize=14)\n",
    "    _plt.ylabel('Latitude [{}, {}]'.format(lat_bottom, lat_top), fontsize=14)\n",
    "\n",
    "    _plt.title(map_title.format(_title_name), fontsize=15)\n",
    "    #_plt.savefig('20{}-map-XCH4.png'.format(_title_name))\n",
    "    _plt.show()\n",
    " \n",
    "plt.close()\n"
   ]
  },
  {
   "cell_type": "code",
   "execution_count": null,
   "metadata": {
    "collapsed": true
   },
   "outputs": [],
   "source": [
    "def get_monthly_data(_data, _name):\n",
    "    # ignore mask\n",
    "    return _data['masked_data']"
   ]
  },
  {
   "cell_type": "code",
   "execution_count": null,
   "metadata": {
    "collapsed": true
   },
   "outputs": [],
   "source": [
    "# what was the purpose of this?\n",
    "\n",
    "month_data = OrderedDict()\n",
    "month_data_oct = OrderedDict()\n",
    "\n",
    "for _month_year, data_group  in data.items():\n",
    "    #print _month_year\n",
    "    month_data[_month_year] = get_monthly_data(data_group, _month_year)\n",
    "    \n",
    "for _month_year, data_group  in data10.items():\n",
    "    #print _month_year\n",
    "    month_data_oct[_month_year] = get_monthly_data(data_group, _month_year)"
   ]
  },
  {
   "cell_type": "code",
   "execution_count": null,
   "metadata": {
    "collapsed": true
   },
   "outputs": [],
   "source": [
    "month_data_feb = OrderedDict()\n",
    "    \n",
    "for _month_year, data_group in data2.items():\n",
    "    #print _month_year\n",
    "    month_data_feb[_month_year] = get_monthly_data(data_group, _month_year)"
   ]
  },
  {
   "cell_type": "code",
   "execution_count": null,
   "metadata": {
    "collapsed": true
   },
   "outputs": [],
   "source": [
    "# print data10.keys()"
   ]
  },
  {
   "cell_type": "code",
   "execution_count": null,
   "metadata": {
    "collapsed": true
   },
   "outputs": [],
   "source": [
    "# data.keys()"
   ]
  },
  {
   "cell_type": "markdown",
   "metadata": {},
   "source": [
    "## Make Oct Maps"
   ]
  },
  {
   "cell_type": "code",
   "execution_count": null,
   "metadata": {},
   "outputs": [],
   "source": [
    "plt.close()\n",
    "for _name, _data in month_data_oct.iteritems():\n",
    "    make_ca_map(plt, _data, lons, lats, _name)"
   ]
  },
  {
   "cell_type": "markdown",
   "metadata": {},
   "source": [
    "## Make Aliso Maps"
   ]
  },
  {
   "cell_type": "code",
   "execution_count": null,
   "metadata": {
    "collapsed": true,
    "scrolled": false
   },
   "outputs": [],
   "source": [
    "# make_ca_map(plt, dd_oct_15, lons, lats, 'Oct 2015')\n",
    "\n",
    "plt.close()\n",
    "for _name, _data in month_data.iteritems():\n",
    "    make_ca_map2(plt, _data, lons, lats, _name)"
   ]
  },
  {
   "cell_type": "markdown",
   "metadata": {},
   "source": [
    "## Make February Maps (commented since figures are saved)"
   ]
  },
  {
   "cell_type": "code",
   "execution_count": null,
   "metadata": {
    "collapsed": true
   },
   "outputs": [],
   "source": [
    "# make_ca_map(plt, dd_oct_15, lons, lats, 'Oct 2015')\n",
    "\n",
    "plt.close()\n",
    "for _name, _data in month_data_feb.iteritems():\n",
    "    make_ca_map(plt, _data, lons, lats, _name)"
   ]
  },
  {
   "cell_type": "markdown",
   "metadata": {},
   "source": [
    "## US map (works, but not used, since my scope is CA)"
   ]
  },
  {
   "cell_type": "code",
   "execution_count": null,
   "metadata": {},
   "outputs": [],
   "source": [
    "# Borrowed code to generate map of US # NOT USED my focus in CA, but this code was referenced\n",
    "# to generate map of California by just specifying lat/lon\n",
    "\n",
    "# set data\n",
    "dd_oct_2015 = data10['15-OCT']['masked_data']\n",
    "\n",
    "# Just the contingous United States\n",
    "m = Basemap(\n",
    "    width=5000000, \n",
    "    height=3400000, \n",
    "    projection='aea', \n",
    "    resolution='l',\n",
    "    lat_1=29.5, \n",
    "    lat_2=45.5, \n",
    "    lat_0=38.5, lon_0=-96.)\n",
    "\n",
    "# Build the figure and ax objects\n",
    "fig, ax = plt.subplots()\n",
    "ax.set_title('Monthly Methane Column Averaged')\n",
    "x, y = m(lons, lats)\n",
    "\n",
    "# I could not get pcolormesh working\n",
    "#m.pcolormesh(lons, lats, dd_oct_15, cmap=cm.Reds, vmin=1.5, vmax=2.0, latlon=True)\n",
    "#m.pcolormesh(lons, lats, dd_oct_15, latlon=True)\n",
    "\n",
    "# scatter\n",
    "m.scatter(x, y, c=dd_oct_2015, s=400, alpha=0.5, \n",
    "          vmin=1.80, vmax=1.87, \n",
    "          edgecolors='none',\n",
    "          cmap=cm.spectral)\n",
    " \n",
    "c = m.colorbar(location='right')\n",
    "c.set_label(\"Methane Concentration (PPMV)\")\n",
    "\n",
    "# Built-in map boundaries\n",
    "m.drawcoastlines()\n",
    "m.drawlsmask(land_color='white', ocean_color='0.8', lakes=False)\n",
    "m.drawcountries()\n",
    "m.drawstates()\n",
    "\n",
    "plt.show()"
   ]
  },
  {
   "cell_type": "markdown",
   "metadata": {},
   "source": [
    "## World map. Not USED"
   ]
  },
  {
   "cell_type": "code",
   "execution_count": null,
   "metadata": {},
   "outputs": [],
   "source": [
    "# # generates global map. scatter plot not showing. NOT USED\n",
    "# plt.close()\n",
    "# map = Basemap(projection='robin',\n",
    "#               resolution='c',\n",
    "#               lat_0=0,\n",
    "#               lon_0=0)\n",
    "\n",
    "# fig = plt.figure(figsize=(12,5))\n",
    "\n",
    "# levels = np.arange(1.5, 2.0, 0.1)\n",
    "\n",
    "# # data not showing. why?\n",
    "# cntr = map.scatter(lons, lats, c=dd_oct_2015, s=500, alpha=0.5, \n",
    "#                    vmin=1.8, vmax=1.9, \n",
    "#                    edgecolors='none',\n",
    "#                    cmap=cm.spectral)\n",
    "# cbar = map.colorbar(cntr, location='bottom',pad='15%')\n",
    "\n",
    "# # Add some more info to the map\n",
    "# cstl = map.drawcoastlines(linewidth=.5)\n",
    "# meri = map.drawmeridians(np.arange(0,360,60), linewidth=.2, labels=[1,0,0,1], labelstyle='+/-', color='grey' ) \n",
    "# para = map.drawparallels(np.arange(-90,90,30), linewidth=.2, labels=[1,0,0,1], labelstyle='+/-', color='grey')\n",
    "# boun = map.drawmapboundary(linewidth=0.5, color='grey')\n",
    "3# plt.show()"
   ]
  },
  {
   "cell_type": "markdown",
   "metadata": {},
   "source": [
    "## LON/LATs near Aliso Canyon Oil Field\n",
    "\n",
    "will be used to generate time series for one ~ three data points near the Aliso Canyon Oil Field"
   ]
  },
  {
   "cell_type": "code",
   "execution_count": null,
   "metadata": {},
   "outputs": [],
   "source": [
    "#np.array(lon[:,24]) # -> -118.75 near aliso canyon lon\n",
    "# np.array(lat[22,:]) #-> 33.75\n",
    "# np.array(lat[23,:]) #-> 31.25"
   ]
  }
 ],
 "metadata": {
  "kernelspec": {
   "display_name": "Python 2",
   "language": "python",
   "name": "python2"
  },
  "language_info": {
   "codemirror_mode": {
    "name": "ipython",
    "version": 2
   },
   "file_extension": ".py",
   "mimetype": "text/x-python",
   "name": "python",
   "nbconvert_exporter": "python",
   "pygments_lexer": "ipython2",
   "version": "2.7.12"
  }
 },
 "nbformat": 4,
 "nbformat_minor": 2
}
